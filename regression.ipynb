{
  "nbformat": 4,
  "nbformat_minor": 0,
  "metadata": {
    "colab": {
      "name": "ECS189L homework 2.ipynb",
      "provenance": [],
      "collapsed_sections": []
    },
    "kernelspec": {
      "name": "python3",
      "display_name": "Python 3"
    }
  },
  "cells": [
    {
      "cell_type": "code",
      "metadata": {
        "id": "raDiRcsXMogi",
        "outputId": "37fa9f69-107b-42a0-aa84-e67aa750d8ca",
        "colab": {
          "resources": {
            "http://localhost:8080/nbextensions/google.colab/files.js": {
              "data": "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",
              "ok": true,
              "headers": [
                [
                  "content-type",
                  "application/javascript"
                ]
              ],
              "status": 200,
              "status_text": ""
            }
          },
          "base_uri": "https://localhost:8080/",
          "height": 72
        }
      },
      "source": [
        "from google.colab import files\n",
        "uploaded = files.upload()"
      ],
      "execution_count": 1,
      "outputs": [
        {
          "output_type": "display_data",
          "data": {
            "text/html": [
              "\n",
              "     <input type=\"file\" id=\"files-7238f7e8-4f6f-406c-b0c3-906052ae45b3\" name=\"files[]\" multiple disabled\n",
              "        style=\"border:none\" />\n",
              "     <output id=\"result-7238f7e8-4f6f-406c-b0c3-906052ae45b3\">\n",
              "      Upload widget is only available when the cell has been executed in the\n",
              "      current browser session. Please rerun this cell to enable.\n",
              "      </output>\n",
              "      <script src=\"/nbextensions/google.colab/files.js\"></script> "
            ],
            "text/plain": [
              "<IPython.core.display.HTML object>"
            ]
          },
          "metadata": {
            "tags": []
          }
        },
        {
          "output_type": "stream",
          "text": [
            "Saving imports-85.data to imports-85.data\n"
          ],
          "name": "stdout"
        }
      ]
    },
    {
      "cell_type": "code",
      "metadata": {
        "id": "UghTvtoMz4Jt",
        "outputId": "70fc4208-99f1-48e2-8a9c-e2691e4de87a",
        "colab": {
          "base_uri": "https://localhost:8080/",
          "height": 272
        }
      },
      "source": [
        "# Import the necessary packages\n",
        "import pandas as pd\n",
        "import io\n",
        "import matplotlib\n",
        "import matplotlib.pyplot as plt\n",
        "import seaborn as sns\n",
        "import statsmodels.api as sm\n",
        "from matplotlib import pyplot as plt\n",
        "import numpy as np\n",
        "from sklearn.metrics import mean_squared_error \n",
        "from math import sqrt\n",
        "from sklearn import preprocessing\n",
        "from sklearn.preprocessing import PolynomialFeatures\n",
        "from sklearn.metrics import r2_score\n",
        "from sklearn.model_selection import train_test_split\n",
        "from sklearn.preprocessing import StandardScaler\n",
        "from statsmodels.stats.outliers_influence import variance_inflation_factor\n",
        "\n",
        "from pandas.plotting import scatter_matrix\n",
        "\n",
        "import seaborn as sns\n",
        "\n",
        "from sklearn.model_selection import train_test_split\n",
        "# load data\n",
        "pd.set_option('display.max_rows', None)\n",
        "pd.set_option('display.max_columns', None)\n",
        "df=pd.read_csv(io.BytesIO(uploaded['imports-85.data'])) #change the file names here\n",
        "\n",
        "# giving names to columns\n",
        "df.columns = ['symboling','normalized-losses','make','fuel-type','aspiration','num-of-doors','body-style','drive-wheels','engine-location','wheel-base','length','width','height','curb-weight','engine-type','num-of-cylinders','engine-size','fuel-system','bore','stroke','compression-ratio','horsepower','peak-rpm','city-mpg','highway-mpg','price']\n",
        "#boxplot = df.boxplot(figsize=(15,15))\n",
        "df = df.replace({\"?\":np.nan})\n",
        "df['num-of-cylinders'] = df['num-of-cylinders'].replace({'eight':'8', 'five':'5','four':'4','six':'6','three':'3','twelve':'12','two':'2'})\n",
        "df = df.astype({'normalized-losses':'float64','num-of-cylinders':'float64','wheel-base':'float64','length':'float64','width':'float64','engine-size':'float64','height':'float64','curb-weight':'float64','bore':'float64','stroke':'float64','compression-ratio':'float64','horsepower':'float64','peak-rpm':'float64','city-mpg':'float64','highway-mpg':'float64','price':'float64'})\n",
        "df['normalized-losses'] = df['normalized-losses'].fillna(df['normalized-losses'].mean(axis=0,skipna=True))\n",
        "\n",
        "df['wheel-base'] = df['wheel-base'].fillna(df['wheel-base'].mean(axis=0,skipna=True))\n",
        "df['length'] = df['length'].fillna(df['length'].mean(axis=0,skipna=True))\n",
        "df['width'] = df['width'].fillna(df['width'].mean(axis=0,skipna=True))\n",
        "df['height'] = df['height'].fillna(df['height'].mean(axis=0,skipna=True))\n",
        "df['curb-weight'] = df['curb-weight'].fillna(df['curb-weight'].mean(axis=0,skipna=True))\n",
        "df['engine-size'] = df['engine-size'].fillna(df['engine-size'].mean(axis=0,skipna=True))\n",
        "df['bore'] = df['bore'].fillna(df['bore'].mean(axis=0,skipna=True))\n",
        "df['stroke'] = df['stroke'].fillna(df['stroke'].mean(axis=0,skipna=True))\n",
        "df['compression-ratio'] = df['compression-ratio'].fillna(df['compression-ratio'].mean(axis=0,skipna=True))\n",
        "df['horsepower'] = df['horsepower'].fillna(df['horsepower'].mean(axis=0,skipna=True))\n",
        "df['peak-rpm'] = df['peak-rpm'].fillna(df['peak-rpm'].mean(axis=0,skipna=True))\n",
        "df['city-mpg'] = df['city-mpg'].fillna(df['city-mpg'].mean(axis=0,skipna=True))\n",
        "df['highway-mpg'] = df['highway-mpg'].fillna(df['highway-mpg'].mean(axis=0,skipna=True))\n",
        "le = le = preprocessing.LabelEncoder()\n",
        "df['symboling'] = le.fit_transform(df['symboling'])\n",
        "df['make'] = le.fit_transform(df['make'])\n",
        "df['fuel-type'] = le.fit_transform(df['fuel-type'])\n",
        "df['num-of-doors'] = le.fit_transform(df['body-style'])\n",
        "df['drive-wheels'] = le.fit_transform(df['drive-wheels'])\n",
        "df['engine-location'] = le.fit_transform(df['engine-location'])\n",
        "df['engine-type'] = le.fit_transform(df['engine-type'])\n",
        "df['fuel-system'] = le.fit_transform(df['fuel-system'])\n",
        "df['body-style'] = le.fit_transform(df['body-style'])\n",
        "df['aspiration'] = le.fit_transform(df['aspiration'])\n",
        "'''\n",
        "df['price'] = df['price'].fillna(df['price'].mean(axis=0,skipna=True))\n",
        "'''\n",
        "df = df.dropna()\n",
        "#numeric variables : df['normalized-losses','wheel-base','length','width','num-of-cylinders','height','curb-weight','engine-size','bore','stroke','compression-ratio','horsepower','peak-rpm','city-mpg','highway-mpg','price']\n",
        "# preview\n",
        "df.head()"
      ],
      "execution_count": 2,
      "outputs": [
        {
          "output_type": "stream",
          "text": [
            "/usr/local/lib/python3.6/dist-packages/statsmodels/tools/_testing.py:19: FutureWarning: pandas.util.testing is deprecated. Use the functions in the public API at pandas.testing instead.\n",
            "  import pandas.util.testing as tm\n"
          ],
          "name": "stderr"
        },
        {
          "output_type": "execute_result",
          "data": {
            "text/html": [
              "<div>\n",
              "<style scoped>\n",
              "    .dataframe tbody tr th:only-of-type {\n",
              "        vertical-align: middle;\n",
              "    }\n",
              "\n",
              "    .dataframe tbody tr th {\n",
              "        vertical-align: top;\n",
              "    }\n",
              "\n",
              "    .dataframe thead th {\n",
              "        text-align: right;\n",
              "    }\n",
              "</style>\n",
              "<table border=\"1\" class=\"dataframe\">\n",
              "  <thead>\n",
              "    <tr style=\"text-align: right;\">\n",
              "      <th></th>\n",
              "      <th>symboling</th>\n",
              "      <th>normalized-losses</th>\n",
              "      <th>make</th>\n",
              "      <th>fuel-type</th>\n",
              "      <th>aspiration</th>\n",
              "      <th>num-of-doors</th>\n",
              "      <th>body-style</th>\n",
              "      <th>drive-wheels</th>\n",
              "      <th>engine-location</th>\n",
              "      <th>wheel-base</th>\n",
              "      <th>length</th>\n",
              "      <th>width</th>\n",
              "      <th>height</th>\n",
              "      <th>curb-weight</th>\n",
              "      <th>engine-type</th>\n",
              "      <th>num-of-cylinders</th>\n",
              "      <th>engine-size</th>\n",
              "      <th>fuel-system</th>\n",
              "      <th>bore</th>\n",
              "      <th>stroke</th>\n",
              "      <th>compression-ratio</th>\n",
              "      <th>horsepower</th>\n",
              "      <th>peak-rpm</th>\n",
              "      <th>city-mpg</th>\n",
              "      <th>highway-mpg</th>\n",
              "      <th>price</th>\n",
              "    </tr>\n",
              "  </thead>\n",
              "  <tbody>\n",
              "    <tr>\n",
              "      <th>0</th>\n",
              "      <td>5</td>\n",
              "      <td>122.0</td>\n",
              "      <td>0</td>\n",
              "      <td>1</td>\n",
              "      <td>0</td>\n",
              "      <td>0</td>\n",
              "      <td>0</td>\n",
              "      <td>2</td>\n",
              "      <td>0</td>\n",
              "      <td>88.6</td>\n",
              "      <td>168.8</td>\n",
              "      <td>64.1</td>\n",
              "      <td>48.8</td>\n",
              "      <td>2548.0</td>\n",
              "      <td>0</td>\n",
              "      <td>4.0</td>\n",
              "      <td>130.0</td>\n",
              "      <td>5</td>\n",
              "      <td>3.47</td>\n",
              "      <td>2.68</td>\n",
              "      <td>9.0</td>\n",
              "      <td>111.0</td>\n",
              "      <td>5000.0</td>\n",
              "      <td>21.0</td>\n",
              "      <td>27.0</td>\n",
              "      <td>16500.0</td>\n",
              "    </tr>\n",
              "    <tr>\n",
              "      <th>1</th>\n",
              "      <td>3</td>\n",
              "      <td>122.0</td>\n",
              "      <td>0</td>\n",
              "      <td>1</td>\n",
              "      <td>0</td>\n",
              "      <td>2</td>\n",
              "      <td>2</td>\n",
              "      <td>2</td>\n",
              "      <td>0</td>\n",
              "      <td>94.5</td>\n",
              "      <td>171.2</td>\n",
              "      <td>65.5</td>\n",
              "      <td>52.4</td>\n",
              "      <td>2823.0</td>\n",
              "      <td>5</td>\n",
              "      <td>6.0</td>\n",
              "      <td>152.0</td>\n",
              "      <td>5</td>\n",
              "      <td>2.68</td>\n",
              "      <td>3.47</td>\n",
              "      <td>9.0</td>\n",
              "      <td>154.0</td>\n",
              "      <td>5000.0</td>\n",
              "      <td>19.0</td>\n",
              "      <td>26.0</td>\n",
              "      <td>16500.0</td>\n",
              "    </tr>\n",
              "    <tr>\n",
              "      <th>2</th>\n",
              "      <td>4</td>\n",
              "      <td>164.0</td>\n",
              "      <td>1</td>\n",
              "      <td>1</td>\n",
              "      <td>0</td>\n",
              "      <td>3</td>\n",
              "      <td>3</td>\n",
              "      <td>1</td>\n",
              "      <td>0</td>\n",
              "      <td>99.8</td>\n",
              "      <td>176.6</td>\n",
              "      <td>66.2</td>\n",
              "      <td>54.3</td>\n",
              "      <td>2337.0</td>\n",
              "      <td>3</td>\n",
              "      <td>4.0</td>\n",
              "      <td>109.0</td>\n",
              "      <td>5</td>\n",
              "      <td>3.19</td>\n",
              "      <td>3.40</td>\n",
              "      <td>10.0</td>\n",
              "      <td>102.0</td>\n",
              "      <td>5500.0</td>\n",
              "      <td>24.0</td>\n",
              "      <td>30.0</td>\n",
              "      <td>13950.0</td>\n",
              "    </tr>\n",
              "    <tr>\n",
              "      <th>3</th>\n",
              "      <td>4</td>\n",
              "      <td>164.0</td>\n",
              "      <td>1</td>\n",
              "      <td>1</td>\n",
              "      <td>0</td>\n",
              "      <td>3</td>\n",
              "      <td>3</td>\n",
              "      <td>0</td>\n",
              "      <td>0</td>\n",
              "      <td>99.4</td>\n",
              "      <td>176.6</td>\n",
              "      <td>66.4</td>\n",
              "      <td>54.3</td>\n",
              "      <td>2824.0</td>\n",
              "      <td>3</td>\n",
              "      <td>5.0</td>\n",
              "      <td>136.0</td>\n",
              "      <td>5</td>\n",
              "      <td>3.19</td>\n",
              "      <td>3.40</td>\n",
              "      <td>8.0</td>\n",
              "      <td>115.0</td>\n",
              "      <td>5500.0</td>\n",
              "      <td>18.0</td>\n",
              "      <td>22.0</td>\n",
              "      <td>17450.0</td>\n",
              "    </tr>\n",
              "    <tr>\n",
              "      <th>4</th>\n",
              "      <td>4</td>\n",
              "      <td>122.0</td>\n",
              "      <td>1</td>\n",
              "      <td>1</td>\n",
              "      <td>0</td>\n",
              "      <td>3</td>\n",
              "      <td>3</td>\n",
              "      <td>1</td>\n",
              "      <td>0</td>\n",
              "      <td>99.8</td>\n",
              "      <td>177.3</td>\n",
              "      <td>66.3</td>\n",
              "      <td>53.1</td>\n",
              "      <td>2507.0</td>\n",
              "      <td>3</td>\n",
              "      <td>5.0</td>\n",
              "      <td>136.0</td>\n",
              "      <td>5</td>\n",
              "      <td>3.19</td>\n",
              "      <td>3.40</td>\n",
              "      <td>8.5</td>\n",
              "      <td>110.0</td>\n",
              "      <td>5500.0</td>\n",
              "      <td>19.0</td>\n",
              "      <td>25.0</td>\n",
              "      <td>15250.0</td>\n",
              "    </tr>\n",
              "  </tbody>\n",
              "</table>\n",
              "</div>"
            ],
            "text/plain": [
              "   symboling  normalized-losses  make  fuel-type  aspiration  num-of-doors  \\\n",
              "0          5              122.0     0          1           0             0   \n",
              "1          3              122.0     0          1           0             2   \n",
              "2          4              164.0     1          1           0             3   \n",
              "3          4              164.0     1          1           0             3   \n",
              "4          4              122.0     1          1           0             3   \n",
              "\n",
              "   body-style  drive-wheels  engine-location  wheel-base  length  width  \\\n",
              "0           0             2                0        88.6   168.8   64.1   \n",
              "1           2             2                0        94.5   171.2   65.5   \n",
              "2           3             1                0        99.8   176.6   66.2   \n",
              "3           3             0                0        99.4   176.6   66.4   \n",
              "4           3             1                0        99.8   177.3   66.3   \n",
              "\n",
              "   height  curb-weight  engine-type  num-of-cylinders  engine-size  \\\n",
              "0    48.8       2548.0            0               4.0        130.0   \n",
              "1    52.4       2823.0            5               6.0        152.0   \n",
              "2    54.3       2337.0            3               4.0        109.0   \n",
              "3    54.3       2824.0            3               5.0        136.0   \n",
              "4    53.1       2507.0            3               5.0        136.0   \n",
              "\n",
              "   fuel-system  bore  stroke  compression-ratio  horsepower  peak-rpm  \\\n",
              "0            5  3.47    2.68                9.0       111.0    5000.0   \n",
              "1            5  2.68    3.47                9.0       154.0    5000.0   \n",
              "2            5  3.19    3.40               10.0       102.0    5500.0   \n",
              "3            5  3.19    3.40                8.0       115.0    5500.0   \n",
              "4            5  3.19    3.40                8.5       110.0    5500.0   \n",
              "\n",
              "   city-mpg  highway-mpg    price  \n",
              "0      21.0         27.0  16500.0  \n",
              "1      19.0         26.0  16500.0  \n",
              "2      24.0         30.0  13950.0  \n",
              "3      18.0         22.0  17450.0  \n",
              "4      19.0         25.0  15250.0  "
            ]
          },
          "metadata": {
            "tags": []
          },
          "execution_count": 2
        }
      ]
    },
    {
      "cell_type": "code",
      "metadata": {
        "id": "Vi7vnidSQAx5",
        "outputId": "f9c94e5c-05ad-4464-d7f7-9d395fbafd23",
        "colab": {
          "base_uri": "https://localhost:8080/"
        }
      },
      "source": [
        "import statsmodels.formula.api as smf\n",
        "\n",
        "def forward_selected(data, response):\n",
        "    \"\"\"Linear model designed by forward selection.\n",
        "\n",
        "    Parameters:\n",
        "    -----------\n",
        "    data : pandas DataFrame with all possible predictors and response\n",
        "\n",
        "    response: string, name of response column in data\n",
        "\n",
        "    Returns:\n",
        "    --------\n",
        "    model: an \"optimal\" fitted statsmodels linear model\n",
        "           with an intercept\n",
        "           selected by forward selection\n",
        "           evaluated by adjusted R-squared\n",
        "    \"\"\"\n",
        "    remaining = set(data.columns)\n",
        "    remaining.remove(response)\n",
        "    selected = []\n",
        "    current_score, best_new_score = 0.0, 0.0\n",
        "    while remaining and current_score == best_new_score:\n",
        "        scores_with_candidates = []\n",
        "        for candidate in remaining:\n",
        "            formula = \"{} ~ {} + 1\".format(response,\n",
        "                                           ' + '.join(selected + [candidate]))\n",
        "            score = smf.ols(formula, data).fit().rsquared_adj\n",
        "            scores_with_candidates.append((score, candidate))\n",
        "        scores_with_candidates.sort()\n",
        "        best_new_score, best_candidate = scores_with_candidates.pop()\n",
        "        if current_score < best_new_score:\n",
        "            remaining.remove(best_candidate)\n",
        "            selected.append(best_candidate)\n",
        "            current_score = best_new_score\n",
        "    formula = \"{} ~ {} + 1\".format(response,\n",
        "                                   ' + '.join(selected))\n",
        "    model = smf.ols(formula, data).fit()\n",
        "    return formula\n",
        "data = df[['normalized-losses','num-of-cylinders','wheel-base','length','width','engine-size','height','curb-weight','bore','stroke','compression-ratio','horsepower','peak-rpm','city-mpg','highway-mpg','price']]\n",
        "data = data.rename(columns={'normalized-losses':'normalized_losses','num-of-cylinders':'num_of_cylinders','wheel-base':'wheel_base','engine-size':'engine_size','curb-weight':'curb_weight','compression-ratio':'compression_ratio','peak-rpm':'peak_rpm','city-mpg':'city_mpg','highway-mpg':'highway_mpg'})\n",
        "print(data.columns)\n",
        "response = \"price\""
      ],
      "execution_count": 3,
      "outputs": [
        {
          "output_type": "stream",
          "text": [
            "Index(['normalized_losses', 'num_of_cylinders', 'wheel_base', 'length',\n",
            "       'width', 'engine_size', 'height', 'curb_weight', 'bore', 'stroke',\n",
            "       'compression_ratio', 'horsepower', 'peak_rpm', 'city_mpg',\n",
            "       'highway_mpg', 'price'],\n",
            "      dtype='object')\n"
          ],
          "name": "stdout"
        }
      ]
    },
    {
      "cell_type": "code",
      "metadata": {
        "id": "y4zNWhd7zVc4",
        "outputId": "8497da1b-e3c6-4f78-d7a9-8e7f606a97ed",
        "colab": {
          "base_uri": "https://localhost:8080/"
        }
      },
      "source": [
        "train_Y = df['price']\n",
        "data2 = forward_selected(data,response)\n",
        "data2 = data2[8:]\n",
        "data2 = data2.replace(\"_\", \"-\")\n",
        "print(\"columns based on forward selection: \" + data2)\n",
        "data2 = data2.split(\" + \")\n",
        "X = data2[0:len(data2)-2]\n",
        "corr_X = df[X].copy()\n",
        "corr_X2 = df[X].copy()\n",
        "corr_X2 = sm.add_constant(corr_X2)\n",
        "corr_X['price'] = df['price']\n",
        "cor = corr_X.corr()\n",
        "print(\"correlation with price: \")\n",
        "print(cor['price'])\n",
        "vif_df = [variance_inflation_factor(corr_X2.values, i) for i in range(corr_X2.shape[1])]\n",
        "print(\"columns with high VIF values: \")\n",
        "print(np.array(list(corr_X2.columns))[np.array(vif_df)>5])\n",
        "print(\"All these columns are removed except const, engine size and width because engine size has the highest correlation with price and is also correlated with all the variables except length and width. Width and length were highly correlated so length was removed because it had a lower correlation with price\")\n",
        "X = X[:-6]\n",
        "X.pop(1)\n",
        "Y = X\n",
        "print(\"Final set of columns: \", Y)\n",
        "#X = ['width','engine-size','stroke','peak-rpm','compression-ratio'] #model chosen from forward propogation followed by removing collinear features based on filtering and then removing irrelevant features based on p values\n",
        "#engine_size + curb_weight + peak_rpm + stroke + width + compression_ratio + horsepower + num_of_cylinders + bore + height + 1\n",
        "train_X = df[X].copy()\n",
        "train_X = sm.add_constant(train_X)\n",
        "print(\"final VIF scores: \")\n",
        "vif_df = [variance_inflation_factor(train_X.values, i) for i in range(train_X.shape[1])]\n",
        "print(vif_df)"
      ],
      "execution_count": 4,
      "outputs": [
        {
          "output_type": "stream",
          "text": [
            "columns based on forward selection: engine-size + curb-weight + peak-rpm + stroke + compression-ratio + width + horsepower + num-of-cylinders + bore + height + length + city-mpg + highway-mpg + 1\n",
            "correlation with price: \n",
            "engine-size          0.872337\n",
            "curb-weight          0.834420\n",
            "peak-rpm            -0.101593\n",
            "stroke               0.083298\n",
            "compression-ratio    0.071176\n",
            "width                0.752795\n",
            "horsepower           0.809629\n",
            "num-of-cylinders     0.708919\n",
            "bore                 0.543433\n",
            "height               0.137284\n",
            "length               0.691044\n",
            "city-mpg            -0.687186\n",
            "price                1.000000\n",
            "Name: price, dtype: float64\n",
            "columns with high VIF values: \n",
            "['const' 'engine-size' 'curb-weight' 'width' 'horsepower'\n",
            " 'num-of-cylinders' 'length' 'city-mpg']\n",
            "All these columns are removed except const, engine size and width because engine size has the highest correlation with price and is also correlated with all the variables except length and width. Width and length were highly correlated so length was removed because it had a lower correlation with price\n",
            "Final set of columns:  ['engine-size', 'peak-rpm', 'stroke', 'compression-ratio', 'width']\n",
            "final VIF scores: \n",
            "[2167.49380886532, 2.3556044925919846, 1.3420588326660186, 1.0889041401852075, 1.3684628258635627, 2.28776804185166]\n"
          ],
          "name": "stdout"
        }
      ]
    },
    {
      "cell_type": "code",
      "metadata": {
        "id": "LgaUTOTS8viH",
        "outputId": "0647def9-7b4c-4d22-b700-226883bf2be8",
        "colab": {
          "base_uri": "https://localhost:8080/",
          "height": 948
        }
      },
      "source": [
        "# YOUR CODE\n",
        "fitted_model_1 = sm.OLS(endog= train_Y, exog=train_X, hasconst=True).fit()\n",
        "print(fitted_model_1.summary())\n",
        "print(\"R squared value: \"+str(fitted_model_1.rsquared))\n",
        "print(\"Adjusted R Squared value: \"+str(fitted_model_1.rsquared_adj))\n",
        "print(\"Diagnostics: \")\n",
        "pred_val = fitted_model_1.fittedvalues.copy()\n",
        "true_val = df['price'].values.copy()\n",
        "residual = true_val - pred_val\n",
        "fig, ax = plt.subplots(figsize=(6,2.5))\n",
        "ax.hist(residual)\n",
        "fig, ax = plt.subplots(figsize=(6,2.5))\n",
        "ax.scatter(pred_val,residual)\n",
        "plt.axhline(0, color='k')"
      ],
      "execution_count": 5,
      "outputs": [
        {
          "output_type": "stream",
          "text": [
            "                            OLS Regression Results                            \n",
            "==============================================================================\n",
            "Dep. Variable:                  price   R-squared:                       0.831\n",
            "Model:                            OLS   Adj. R-squared:                  0.826\n",
            "Method:                 Least Squares   F-statistic:                     190.1\n",
            "Date:                Tue, 10 Nov 2020   Prob (F-statistic):           9.32e-73\n",
            "Time:                        18:34:07   Log-Likelihood:                -1902.4\n",
            "No. Observations:                 200   AIC:                             3817.\n",
            "Df Residuals:                     194   BIC:                             3837.\n",
            "Df Model:                           5                                         \n",
            "Covariance Type:            nonrobust                                         \n",
            "=====================================================================================\n",
            "                        coef    std err          t      P>|t|      [0.025      0.975]\n",
            "-------------------------------------------------------------------------------------\n",
            "const             -7.374e+04   1.09e+04     -6.744      0.000   -9.53e+04   -5.22e+04\n",
            "engine-size         147.4713      8.677     16.995      0.000     130.357     164.585\n",
            "peak-rpm              3.2680      0.569      5.741      0.000       2.145       4.391\n",
            "stroke            -3277.3811    782.116     -4.190      0.000   -4819.922   -1734.840\n",
            "compression-ratio   225.0006     68.623      3.279      0.001      89.657     360.344\n",
            "width               909.1492    169.370      5.368      0.000     575.106    1243.192\n",
            "==============================================================================\n",
            "Omnibus:                       25.086   Durbin-Watson:                   0.920\n",
            "Prob(Omnibus):                  0.000   Jarque-Bera (JB):               63.738\n",
            "Skew:                           0.518   Prob(JB):                     1.44e-14\n",
            "Kurtosis:                       5.564   Cond. No.                     2.39e+05\n",
            "==============================================================================\n",
            "\n",
            "Warnings:\n",
            "[1] Standard Errors assume that the covariance matrix of the errors is correctly specified.\n",
            "[2] The condition number is large, 2.39e+05. This might indicate that there are\n",
            "strong multicollinearity or other numerical problems.\n",
            "R squared value: 0.830521514000314\n",
            "Adjusted R Squared value: 0.8261535117838273\n",
            "Diagnostics: \n"
          ],
          "name": "stdout"
        },
        {
          "output_type": "execute_result",
          "data": {
            "text/plain": [
              "<matplotlib.lines.Line2D at 0x7f09d9ff8898>"
            ]
          },
          "metadata": {
            "tags": []
          },
          "execution_count": 5
        },
        {
          "output_type": "display_data",
          "data": {
            "image/png": "[encoded data removed]",
            "text/plain": [
              "<Figure size 432x180 with 1 Axes>"
            ]
          },
          "metadata": {
            "tags": [],
            "needs_background": "light"
          }
        },
        {
          "output_type": "display_data",
          "data": {
            "image/png": "[encoded data removed]",
            "text/plain": [
              "<Figure size 432x180 with 1 Axes>"
            ]
          },
          "metadata": {
            "tags": [],
            "needs_background": "light"
          }
        }
      ]
    },
    {
      "cell_type": "markdown",
      "metadata": {
        "id": "-hPT75_3fgZy"
      },
      "source": [
        "TEXT CELL 1: Q1a.\n",
        "What is the adj. R2 of your model: #0.8261535117838273\n",
        "\n",
        "How many variables do you have: #5\n",
        "\n",
        "What are the VIF values of each variable: # [2.3556044925919846, 1.3420588326660186, 1.0889041401852075, 1.3684628258635627, 2.28776804185166]\n",
        "\n",
        "Does it pass the diagnostics: #Yes\n"
      ]
    },
    {
      "cell_type": "code",
      "metadata": {
        "id": "3w3ysY5YfgZz",
        "outputId": "8d2f3c41-5767-45cb-fd62-55825b944c87",
        "colab": {
          "base_uri": "https://localhost:8080/"
        }
      },
      "source": [
        "for i in X:\n",
        "  train_X = df[i].copy()\n",
        "  train_X = sm.add_constant(train_X)\n",
        "  fitted_model = sm.OLS(endog= train_Y, exog=train_X, hasconst=True).fit()\n",
        "  print(\"Variance explained for \" + str(i) + \": \",fitted_model.rsquared)\n",
        "  print(\"P value for \" + str(i) + \": \",fitted_model.pvalues[1])"
      ],
      "execution_count": 6,
      "outputs": [
        {
          "output_type": "stream",
          "text": [
            "Variance explained for engine-size:  0.7609714051425501\n",
            "P value for engine-size:  1.8977171466561434e-63\n",
            "Variance explained for peak-rpm:  0.01032108701146961\n",
            "P value for peak-rpm:  0.1523043979301662\n",
            "Variance explained for stroke:  0.006938539728123305\n",
            "P value for stroke:  0.2409299872389901\n",
            "Variance explained for compression-ratio:  0.0050659648548154745\n",
            "P value for compression-ratio:  0.31656752744423466\n",
            "Variance explained for width:  0.5667001060351047\n",
            "P value for width:  8.256714148306712e-38\n"
          ],
          "name": "stdout"
        }
      ]
    },
    {
      "cell_type": "markdown",
      "metadata": {
        "id": "6dAcKtLa6tZj"
      },
      "source": [
        "TEXT CELL2: Q1b.\n",
        "What are the top 3 variables in your 1a. model:\n",
        "\n",
        "#Engine Size (R2: 0.7609714051425501, p-value:1.8977171466561434e-63), #width (R2: 0.5667001060351047, p-value: 8.256714148306712e-38), #Peak RPM (R2: 0.01032108701146961, p-value:0.1523043979301662)"
      ]
    },
    {
      "cell_type": "markdown",
      "metadata": {
        "id": "9iRtckAG_FDh"
      },
      "source": [
        "TEXT CELL 3: Q1c. Interpret the model for each of those top-3 predictors, in words.\n",
        "# Engine size: For every unit increase in engine size, the price increases by a value of 147.4713. Width: For every unit increase in the value of width, the price increases by a value of 909.1492. Peak RPM: For every unit increase in the value of peak RPM, the price increases by a value of 3.2680"
      ]
    },
    {
      "cell_type": "code",
      "metadata": {
        "id": "78PmvWkwh-cB",
        "outputId": "b71e59e3-9c47-477c-b9aa-d30c75811bf9",
        "colab": {
          "base_uri": "https://localhost:8080/"
        }
      },
      "source": [
        "data = df[['symboling', 'normalized-losses', 'make', 'fuel-type', 'aspiration','num-of-doors', 'body-style', 'drive-wheels', 'engine-location','wheel-base', 'length', 'width', 'height', 'curb-weight', 'engine-type','num-of-cylinders', 'engine-size', 'fuel-system', 'bore', 'stroke','compression-ratio', 'horsepower', 'peak-rpm', 'city-mpg','highway-mpg', 'price']]\n",
        "data = data.rename(columns={'fuel-type':'fuel_type', 'num-of-doors':'num_of_doors','body-style':'body_style','drive-wheels':'drive_wheels','engine-location':'engine_location','wheel-base':'wheel_base','engine-type':'engine_type','fuel-system':'fuel_system','normalized-losses':'normalized_losses','num-of-cylinders':'num_of_cylinders','wheel-base':'wheel_base','engine-size':'engine_size','curb-weight':'curb_weight','compression-ratio':'compression_ratio','peak-rpm':'peak_rpm','city-mpg':'city_mpg','highway-mpg':'highway_mpg'})\n",
        "response = \"price\"\n",
        "train_Y = df['price']\n",
        "data2 = forward_selected(data,response)\n",
        "data2 = data2[8:]\n",
        "print(data2)\n",
        "data2 = data2.replace(\"_\", \"-\")\n",
        "print(\"columns based on forward selection: \" + data2)\n",
        "data2 = data2.split(\" + \")\n",
        "X = data2[0:len(data2)-2]\n",
        "corr_X = df[X].copy()\n",
        "corr_X2 = df[X].copy()\n",
        "corr_X2 = sm.add_constant(corr_X2)\n",
        "corr_X['price'] = df['price']\n",
        "cor = corr_X.corr()\n",
        "print(\"correlation with price: \")\n",
        "print(cor['price'])\n",
        "vif_df = [variance_inflation_factor(corr_X2.values, i) for i in range(corr_X2.shape[1])]\n",
        "print(\"columns with high VIF values: \")\n",
        "rem = np.array(list(corr_X2.columns))[np.array(vif_df)>5]\n",
        "print(rem)\n",
        "rem = rem[2:]\n",
        "for i in rem:\n",
        "  X.pop(X.index(i))\n",
        "print(\"Final set of columns: \", X)\n",
        "train_X = df[X].copy()\n",
        "train_X = sm.add_constant(train_X)\n",
        "print(\"final VIF scores: \")\n",
        "vif_df = [variance_inflation_factor(train_X.values, i) for i in range(train_X.shape[1])]\n",
        "print(vif_df)"
      ],
      "execution_count": 7,
      "outputs": [
        {
          "output_type": "stream",
          "text": [
            "engine_size + curb_weight + engine_location + make + width + stroke + drive_wheels + peak_rpm + fuel_type + num_of_doors + height + horsepower + normalized_losses + bore + num_of_cylinders + body_style + 1\n",
            "columns based on forward selection: engine-size + curb-weight + engine-location + make + width + stroke + drive-wheels + peak-rpm + fuel-type + num-of-doors + height + horsepower + normalized-losses + bore + num-of-cylinders + body-style + 1\n",
            "correlation with price: \n",
            "engine-size          0.872337\n",
            "curb-weight          0.834420\n",
            "engine-location      0.331098\n",
            "make                -0.164899\n",
            "width                0.752795\n",
            "stroke               0.083298\n",
            "drive-wheels         0.590292\n",
            "peak-rpm            -0.101593\n",
            "fuel-type           -0.110417\n",
            "num-of-doors        -0.074108\n",
            "height               0.137284\n",
            "horsepower           0.809629\n",
            "normalized-losses    0.133999\n",
            "bore                 0.543433\n",
            "num-of-cylinders     0.708919\n",
            "price                1.000000\n",
            "Name: price, dtype: float64\n",
            "columns with high VIF values: \n",
            "['const' 'engine-size' 'curb-weight' 'horsepower' 'num-of-cylinders']\n",
            "Final set of columns:  ['engine-size', 'engine-location', 'make', 'width', 'stroke', 'drive-wheels', 'peak-rpm', 'fuel-type', 'num-of-doors', 'height', 'normalized-losses', 'bore']\n",
            "final VIF scores: \n",
            "[3044.7864568360496, 3.462146838940191, 1.521868013914162, 1.3031350485298454, 3.2285336396759834, 1.28311090151711, 1.8203595327079385, 1.914505191211211, 1.7117975596399129, 1.6615094440806588, 1.9628224069340316, 1.4481862444402462, 2.0869248311718867]\n"
          ],
          "name": "stdout"
        }
      ]
    },
    {
      "cell_type": "code",
      "metadata": {
        "id": "X5FlSzcViK7b",
        "outputId": "64146c39-8250-4a62-b53c-59b78a300cc2",
        "colab": {
          "base_uri": "https://localhost:8080/",
          "height": 1000
        }
      },
      "source": [
        "fitted_model_1 = sm.OLS(endog= train_Y, exog=train_X, hasconst=True).fit()\n",
        "print(fitted_model_1.summary())\n",
        "print(\"R squared value: \"+str(fitted_model_1.rsquared))\n",
        "print(\"Adjusted R Squared value: \"+str(fitted_model_1.rsquared_adj))\n",
        "print(\"Diagnostics: \")\n",
        "pred_val = fitted_model_1.fittedvalues.copy()\n",
        "true_val = df['price'].values.copy()\n",
        "residual = true_val - pred_val\n",
        "fig, ax = plt.subplots(figsize=(6,2.5))\n",
        "ax.hist(residual)\n",
        "fig, ax = plt.subplots(figsize=(6,2.5))\n",
        "ax.scatter(pred_val,residual)\n",
        "plt.axhline(0, color='k')"
      ],
      "execution_count": 8,
      "outputs": [
        {
          "output_type": "stream",
          "text": [
            "                            OLS Regression Results                            \n",
            "==============================================================================\n",
            "Dep. Variable:                  price   R-squared:                       0.884\n",
            "Model:                            OLS   Adj. R-squared:                  0.876\n",
            "Method:                 Least Squares   F-statistic:                     118.6\n",
            "Date:                Tue, 10 Nov 2020   Prob (F-statistic):           1.46e-80\n",
            "Time:                        18:34:12   Log-Likelihood:                -1864.6\n",
            "No. Observations:                 200   AIC:                             3755.\n",
            "Df Residuals:                     187   BIC:                             3798.\n",
            "Df Model:                          12                                         \n",
            "Covariance Type:            nonrobust                                         \n",
            "=====================================================================================\n",
            "                        coef    std err          t      P>|t|      [0.025      0.975]\n",
            "-------------------------------------------------------------------------------------\n",
            "const             -8.397e+04   1.09e+04     -7.683      0.000   -1.06e+05   -6.24e+04\n",
            "engine-size         114.5004      8.871     12.907      0.000      97.000     132.000\n",
            "engine-location    1.138e+04   2010.263      5.663      0.000    7419.168    1.54e+04\n",
            "make               -190.1483     36.517     -5.207      0.000    -262.186    -118.110\n",
            "width              1075.8354    169.668      6.341      0.000     741.126    1410.545\n",
            "stroke            -2922.0477    715.937     -4.081      0.000   -4334.398   -1509.697\n",
            "drive-wheels       1621.9848    487.025      3.330      0.001     661.215    2582.754\n",
            "peak-rpm              1.8583      0.573      3.241      0.001       0.727       2.989\n",
            "fuel-type         -1823.5956    863.840     -2.111      0.036   -3527.719    -119.472\n",
            "num-of-doors       -573.7251    302.346     -1.898      0.059   -1170.173      22.723\n",
            "height              293.4297    114.559      2.561      0.011      67.436     519.423\n",
            "normalized-losses    -6.7024      7.450     -0.900      0.369     -21.399       7.994\n",
            "bore                 -7.5726   1068.133     -0.007      0.994   -2114.711    2099.566\n",
            "==============================================================================\n",
            "Omnibus:                       30.487   Durbin-Watson:                   0.979\n",
            "Prob(Omnibus):                  0.000   Jarque-Bera (JB):               70.095\n",
            "Skew:                           0.684   Prob(JB):                     6.01e-16\n",
            "Kurtosis:                       5.557   Cond. No.                     2.84e+05\n",
            "==============================================================================\n",
            "\n",
            "Warnings:\n",
            "[1] Standard Errors assume that the covariance matrix of the errors is correctly specified.\n",
            "[2] The condition number is large, 2.84e+05. This might indicate that there are\n",
            "strong multicollinearity or other numerical problems.\n",
            "R squared value: 0.8838318086841485\n",
            "Adjusted R Squared value: 0.8763771653911526\n",
            "Diagnostics: \n"
          ],
          "name": "stdout"
        },
        {
          "output_type": "execute_result",
          "data": {
            "text/plain": [
              "<matplotlib.lines.Line2D at 0x7f09d7266ac8>"
            ]
          },
          "metadata": {
            "tags": []
          },
          "execution_count": 8
        },
        {
          "output_type": "display_data",
          "data": {
            "image/png": "[encoded data removed]",
            "text/plain": [
              "<Figure size 432x180 with 1 Axes>"
            ]
          },
          "metadata": {
            "tags": [],
            "needs_background": "light"
          }
        },
        {
          "output_type": "display_data",
          "data": {
            "image/png": "[encoded data removed]",
            "text/plain": [
              "<Figure size 432x180 with 1 Axes>"
            ]
          },
          "metadata": {
            "tags": [],
            "needs_background": "light"
          }
        }
      ]
    },
    {
      "cell_type": "markdown",
      "metadata": {
        "id": "oRRotG_AiZgD"
      },
      "source": [
        "TEXT CELL 4: Q2\n",
        "What is the adj. R2 of your model: #0.8763771653911526\n",
        "\n",
        "How many variables do you have: #12\n",
        "\n",
        "What are the VIF values of each variable: # [3.462146838940191, 1.521868013914162, 1.3031350485298454, 3.2285336396759834, 1.28311090151711, 1.8203595327079385, 1.914505191211211, 1.7117975596399129, 1.6615094440806588, 1.9628224069340316, 1.4481862444402462, 2.0869248311718867]\n",
        "\n",
        "Does it pass the diagnostics: #Yes"
      ]
    },
    {
      "cell_type": "code",
      "metadata": {
        "id": "4R4-8NWZiZgE",
        "outputId": "dd081745-2c5b-43e5-8b60-adb1a5123f6c",
        "colab": {
          "base_uri": "https://localhost:8080/"
        }
      },
      "source": [
        "df['engine-size-2'] = df['engine-size']**2\n",
        "df['width-2'] = df['width']**2\n",
        "df['stroke-2'] = df['stroke']**2\n",
        "df['peak-rpm-2'] = df['peak-rpm']**2\n",
        "df['height-2'] = df['height']**2\n",
        "df['normalized-losses-2'] = df['normalized-losses']**2\n",
        "data = df[['engine-size', 'engine-location', 'make', 'width', 'stroke', 'drive-wheels', 'peak-rpm', 'fuel-type', 'num-of-doors', 'height', 'normalized-losses', 'bore','engine-size-2','width-2','stroke-2','peak-rpm-2','height-2','normalized-losses','price']]\n",
        "data = data.rename(columns={'fuel-type':'fuel_type','engine-size-2':'engine_size_2','width-2':'width_2','stroke-2':'stroke_2','peak-rpm-2':'peak_rpm_2','height-2':'height_2','normalized-losses-2':'normalized_losses_2', 'num-of-doors':'num_of_doors','body-style':'body_style','drive-wheels':'drive_wheels','engine-location':'engine_location','wheel-base':'wheel_base','engine-type':'engine_type','fuel-system':'fuel_system','normalized-losses':'normalized_losses','num-of-cylinders':'num_of_cylinders','wheel-base':'wheel_base','engine-size':'engine_size','curb-weight':'curb_weight','compression-ratio':'compression_ratio','peak-rpm':'peak_rpm','city-mpg':'city_mpg','highway-mpg':'highway_mpg'})\n",
        "response = \"price\"\n",
        "train_Y = df['price']\n",
        "data2 = forward_selected(data,response)\n",
        "data2 = data2[8:]\n",
        "print(data2)\n",
        "data2 = data2.replace(\"_\", \"-\")\n",
        "print(\"columns based on forward selection: \" + data2)\n",
        "data2 = data2.split(\" + \")\n",
        "\n",
        "X = data2[0:len(data2)-2]\n",
        "corr_X = df[X].copy()\n",
        "corr_X2 = df[X].copy()\n",
        "corr_X2 = sm.add_constant(corr_X2)\n",
        "corr_X['price'] = df['price']\n",
        "cor = corr_X.corr()\n",
        "print(\"correlation with price: \")\n",
        "print(cor['price'])\n",
        "vif_df = [variance_inflation_factor(corr_X2.values, i) for i in range(corr_X2.shape[1])]\n",
        "print(\"columns with high VIF values: \")\n",
        "rem = np.array(list(corr_X2.columns))[np.array(vif_df)>5]\n",
        "print(rem)\n",
        "print(\"Final set of columns: \", X)\n",
        "train_X = df[X].copy()\n",
        "train_X = sm.add_constant(train_X)\n",
        "print(\"final VIF scores: \")\n",
        "vif_df = [variance_inflation_factor(train_X.values, i) for i in range(train_X.shape[1])]\n",
        "print(vif_df)"
      ],
      "execution_count": 9,
      "outputs": [
        {
          "output_type": "stream",
          "text": [
            "engine_size + width_2 + engine_location + make + drive_wheels + stroke_2 + width + peak_rpm_2 + height + fuel_type + num_of_doors + height_2 + engine_size_2 + bore + 1\n",
            "columns based on forward selection: engine-size + width-2 + engine-location + make + drive-wheels + stroke-2 + width + peak-rpm-2 + height + fuel-type + num-of-doors + height-2 + engine-size-2 + bore + 1\n",
            "correlation with price: \n",
            "engine-size        0.872337\n",
            "width-2            0.755912\n",
            "engine-location    0.331098\n",
            "make              -0.164899\n",
            "drive-wheels       0.590292\n",
            "stroke-2           0.097205\n",
            "width              0.752795\n",
            "peak-rpm-2        -0.093890\n",
            "height             0.137284\n",
            "fuel-type         -0.110417\n",
            "num-of-doors      -0.074108\n",
            "height-2           0.139804\n",
            "engine-size-2      0.848161\n",
            "price              1.000000\n",
            "Name: price, dtype: float64\n",
            "columns with high VIF values: \n",
            "['const' 'engine-size' 'width-2' 'width' 'height' 'height-2'\n",
            " 'engine-size-2']\n",
            "Final set of columns:  ['engine-size', 'width-2', 'engine-location', 'make', 'drive-wheels', 'stroke-2', 'width', 'peak-rpm-2', 'height', 'fuel-type', 'num-of-doors', 'height-2', 'engine-size-2']\n",
            "final VIF scores: \n",
            "[1093403.4511228583, 42.76015525168256, 3404.59889195669, 1.5718775064886308, 1.3428564433341814, 1.6740672682422446, 1.405303128740085, 3403.0934379310975, 1.8291453783951024, 1386.240625194711, 1.6399048214441354, 1.7162705182105822, 1389.0199780338085, 34.69683774037185]\n"
          ],
          "name": "stdout"
        }
      ]
    },
    {
      "cell_type": "code",
      "metadata": {
        "id": "9FnqAqVWiZgI",
        "outputId": "044fa154-27b5-4ce2-be28-d2b5374ac7db",
        "colab": {
          "base_uri": "https://localhost:8080/",
          "height": 1000
        }
      },
      "source": [
        "fitted_model_1 = sm.OLS(endog= train_Y, exog=train_X, hasconst=True).fit()\n",
        "print(fitted_model_1.summary())\n",
        "print(\"R squared value: \"+str(fitted_model_1.rsquared))\n",
        "print(\"Adjusted R Squared value: \"+str(fitted_model_1.rsquared_adj))\n",
        "print(\"Diagnostics: \")\n",
        "pred_val = fitted_model_1.fittedvalues.copy()\n",
        "true_val = df['price'].values.copy()\n",
        "residual = true_val - pred_val\n",
        "fig, ax = plt.subplots(figsize=(6,2.5))\n",
        "ax.hist(residual)\n",
        "fig, ax = plt.subplots(figsize=(6,2.5))\n",
        "ax.scatter(pred_val,residual)\n",
        "plt.axhline(0, color='k')"
      ],
      "execution_count": 10,
      "outputs": [
        {
          "output_type": "stream",
          "text": [
            "                            OLS Regression Results                            \n",
            "==============================================================================\n",
            "Dep. Variable:                  price   R-squared:                       0.889\n",
            "Model:                            OLS   Adj. R-squared:                  0.881\n",
            "Method:                 Least Squares   F-statistic:                     114.6\n",
            "Date:                Tue, 10 Nov 2020   Prob (F-statistic):           2.38e-81\n",
            "Time:                        18:34:15   Log-Likelihood:                -1860.1\n",
            "No. Observations:                 200   AIC:                             3748.\n",
            "Df Residuals:                     186   BIC:                             3794.\n",
            "Df Model:                          13                                         \n",
            "Covariance Type:            nonrobust                                         \n",
            "===================================================================================\n",
            "                      coef    std err          t      P>|t|      [0.025      0.975]\n",
            "-----------------------------------------------------------------------------------\n",
            "const            2.634e+04   2.03e+05      0.130      0.897   -3.74e+05    4.27e+05\n",
            "engine-size        72.1232     30.552      2.361      0.019      11.850     132.397\n",
            "width-2            53.3323     40.406      1.320      0.188     -26.380     133.045\n",
            "engine-location  1.267e+04   2002.176      6.330      0.000    8723.298    1.66e+04\n",
            "make             -161.5514     36.328     -4.447      0.000    -233.220     -89.883\n",
            "drive-wheels     1711.9461    457.707      3.740      0.000     808.981    2614.911\n",
            "stroke-2         -377.7295    116.068     -3.254      0.001    -606.709    -148.750\n",
            "width           -5960.4460   5398.368     -1.104      0.271   -1.66e+04    4689.455\n",
            "peak-rpm-2          0.0002   5.33e-05      2.975      0.003    5.34e-05       0.000\n",
            "height           4854.1092   2983.564      1.627      0.105   -1031.867    1.07e+04\n",
            "fuel-type       -1492.2292    828.600     -1.801      0.073   -3126.890     142.432\n",
            "num-of-doors     -418.7298    301.144     -1.390      0.166   -1012.827     175.367\n",
            "height-2          -42.2742     27.723     -1.525      0.129     -96.967      12.418\n",
            "engine-size-2       0.1099      0.080      1.373      0.171      -0.048       0.268\n",
            "==============================================================================\n",
            "Omnibus:                       44.411   Durbin-Watson:                   1.000\n",
            "Prob(Omnibus):                  0.000   Jarque-Bera (JB):              135.681\n",
            "Skew:                           0.888   Prob(JB):                     3.44e-30\n",
            "Kurtosis:                       6.623   Cond. No.                     2.81e+10\n",
            "==============================================================================\n",
            "\n",
            "Warnings:\n",
            "[1] Standard Errors assume that the covariance matrix of the errors is correctly specified.\n",
            "[2] The condition number is large, 2.81e+10. This might indicate that there are\n",
            "strong multicollinearity or other numerical problems.\n",
            "R squared value: 0.889027492647438\n",
            "Adjusted R Squared value: 0.881271349660431\n",
            "Diagnostics: \n"
          ],
          "name": "stdout"
        },
        {
          "output_type": "execute_result",
          "data": {
            "text/plain": [
              "<matplotlib.lines.Line2D at 0x7f09d714d2b0>"
            ]
          },
          "metadata": {
            "tags": []
          },
          "execution_count": 10
        },
        {
          "output_type": "display_data",
          "data": {
            "image/png": "[encoded data removed]",
            "text/plain": [
              "<Figure size 432x180 with 1 Axes>"
            ]
          },
          "metadata": {
            "tags": [],
            "needs_background": "light"
          }
        },
        {
          "output_type": "display_data",
          "data": {
            "image/png": "[encoded data removed]",
            "text/plain": [
              "<Figure size 432x180 with 1 Axes>"
            ]
          },
          "metadata": {
            "tags": [],
            "needs_background": "light"
          }
        }
      ]
    },
    {
      "cell_type": "markdown",
      "metadata": {
        "id": "-6LEQUOviZgM"
      },
      "source": [
        "TEXT CELL 5: Q3\n",
        "What is the adj. R2 of your model: #0.881271349660431\n",
        "How many variables do you have: #13\n",
        "What are the VIF values of each variable: # [42.76015525168256, 3404.59889195669, 1.5718775064886308, 1.3428564433341814, 1.6740672682422446, 1.405303128740085, 3403.0934379310975, 1.8291453783951024, 1386.240625194711, 1.6399048214441354, 1.7162705182105822, 1389.0199780338085, 34.69683774037185]\n",
        "Does it pass the diagnostics: #Yes"
      ]
    }
  ]
}